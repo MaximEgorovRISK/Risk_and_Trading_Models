{
 "cells": [
  {
   "cell_type": "code",
   "execution_count": 954,
   "id": "71076edb-7bd9-43ac-b60b-c4b369db3ae8",
   "metadata": {},
   "outputs": [],
   "source": [
    "# Импорт библиотек для проведения исследования с использованием модели GARCH (1,1)\n",
    "import yfinance as yf\n",
    "import numpy as np\n",
    "import pandas as pd\n",
    "import matplotlib.pyplot as plt\n",
    "import seaborn as sns\n",
    "from arch import arch_model\n",
    "from scipy import stats\n",
    "import datetime as dt\n",
    "import math\n",
    "from scipy.stats import norm"
   ]
  },
  {
   "cell_type": "code",
   "execution_count": 955,
   "id": "3312c9c3-3488-46a9-9649-a1d4ad4ffc21",
   "metadata": {},
   "outputs": [
    {
     "name": "stderr",
     "output_type": "stream",
     "text": [
      "/var/folders/68/wtl2nd4s0j3fvb1d1nt0qxvh0000gn/T/ipykernel_26723/3931943355.py:6: FutureWarning: YF.download() has changed argument auto_adjust default to True\n",
      "  df1 = yf.download(ticker, startDate, endDate) ['Close'] # Запрос данных через библиотеку Yahoo Finance\n",
      "[*********************100%***********************]  1 of 1 completed\n"
     ]
    }
   ],
   "source": [
    "# Импорт данных для обучающей выборки используя информационную систему Yahoo Finance\n",
    "ticker = 'SPY' # Тикеры активов по которым загружаем данные\n",
    "n_of_shares = ([100]) # Количество акций (шт.)\n",
    "startDate = '2021-01-01' # Дата начала импорта данных\n",
    "endDate = '2023-12-31' # Дата окончания импорта данных\n",
    "df1 = yf.download(ticker, startDate, endDate) ['Close'] # Запрос данных через библиотеку Yahoo Finance"
   ]
  },
  {
   "cell_type": "code",
   "execution_count": 956,
   "id": "77028484-5a41-4838-ac1b-a340b6e60f73",
   "metadata": {},
   "outputs": [
    {
     "name": "stdout",
     "output_type": "stream",
     "text": [
      "Стоимость портфеля на последний импортированный день - 46521.39 USD\n",
      "Удельный вес каждого актива в портфеле на момент последнего дня -100.0 %\n"
     ]
    }
   ],
   "source": [
    "#Расчёт портфельных метрик обучающей выборки\n",
    "portfolio_value = np.sum(n_of_shares * np.array(df1.tail(1))) # Стоимость портфеля на последний импортированный день\n",
    "portfolio_value_all = np.sum(n_of_shares * np.array(df1), axis=1) # Стоимости портфеля на конец каждого дня\n",
    "weights = np.squeeze((np.array(df1.tail(1)) * n_of_shares)/portfolio_value) # Удельный вес каждого актива в портфеле на момент последнего дня\n",
    "print(f'Стоимость портфеля на последний импортированный день -{portfolio_value: .2f} USD') # Вывод информации по стоимости портфеля\n",
    "print(f'Удельный вес каждого актива в портфеле на момент последнего дня -{weights*100} %')# Вывод информации об удельных весах активов"
   ]
  },
  {
   "cell_type": "code",
   "execution_count": 957,
   "id": "23b736ab-502a-4fab-95d1-ef2f24d838cd",
   "metadata": {},
   "outputs": [
    {
     "name": "stdout",
     "output_type": "stream",
     "text": [
      "Историческое математическое ожидание дневного изменения стоимости портфеля -  0.040 %\n",
      "Историческая дневная волатильность портфеля -  1.109 %\n",
      "Историческая аннуализированная волатильность портфеля -  17.607 %\n"
     ]
    }
   ],
   "source": [
    "#Расчёт статистических метрик портфеля обучающей выборки\n",
    "portfolio_value_df = pd.DataFrame(portfolio_value_all) # Преобразование numpy array в pd dataframe\n",
    "dailych = np.log(portfolio_value_df/portfolio_value_df.shift(1)).dropna() # Создание датафрейма с временными рядами дневных логнормальных изменений стоимости портфеля\n",
    "portfolio_mean = dailych.mean().iloc[0] # Математическое ожидание дневного изменения стоимости портфеля\n",
    "portfolio_std = dailych.std().iloc[0] # Дневная волатильность портфеля\n",
    "portfolio_std_annual = (dailych.std().iloc[0]) * np.sqrt(252) # Аннуализированная волатильность портфеля за весь период импорта данных\n",
    "print(f'Историческое математическое ожидание дневного изменения стоимости портфеля - {portfolio_mean*100: .3f} %')\n",
    "print(f'Историческая дневная волатильность портфеля - {portfolio_std*100: .3f} %')\n",
    "print(f'Историческая аннуализированная волатильность портфеля - {portfolio_std_annual*100: .3f} %')"
   ]
  },
  {
   "cell_type": "code",
   "execution_count": 958,
   "id": "b52ecb9d-1141-4f6c-a29c-b3fcbd2ef404",
   "metadata": {},
   "outputs": [
    {
     "name": "stdout",
     "output_type": "stream",
     "text": [
      "                     Constant Mean - GARCH Model Results                      \n",
      "==============================================================================\n",
      "Dep. Variable:                      0   R-squared:                       0.000\n",
      "Mean Model:             Constant Mean   Adj. R-squared:                  0.000\n",
      "Vol Model:                      GARCH   Log-Likelihood:                2390.33\n",
      "Distribution:                  Normal   AIC:                          -4772.67\n",
      "Method:            Maximum Likelihood   BIC:                          -4754.17\n",
      "                                        No. Observations:                  752\n",
      "Date:                Tue, Sep 30 2025   Df Residuals:                      751\n",
      "Time:                        03:08:41   Df Model:                            1\n",
      "                                 Mean Model                                 \n",
      "============================================================================\n",
      "                 coef    std err          t      P>|t|      95.0% Conf. Int.\n",
      "----------------------------------------------------------------------------\n",
      "mu         7.4616e-04  6.446e-06    115.752      0.000 [7.335e-04,7.588e-04]\n",
      "                              Volatility Model                              \n",
      "============================================================================\n",
      "                 coef    std err          t      P>|t|      95.0% Conf. Int.\n",
      "----------------------------------------------------------------------------\n",
      "omega      2.4574e-06  9.515e-12  2.583e+05      0.000 [2.457e-06,2.457e-06]\n",
      "alpha[1]       0.1000  3.567e-02      2.803  5.056e-03   [3.009e-02,  0.170]\n",
      "beta[1]        0.8800  3.235e-02     27.199 6.711e-163     [  0.817,  0.943]\n",
      "============================================================================\n",
      "\n",
      "Covariance estimator: robust\n"
     ]
    },
    {
     "name": "stderr",
     "output_type": "stream",
     "text": [
      "/opt/anaconda3/lib/python3.12/site-packages/arch/univariate/base.py:309: DataScaleWarning: y is poorly scaled, which may affect convergence of the optimizer when\n",
      "estimating the model parameters. The scale of y is 0.0001229. Parameter\n",
      "estimation work better when this value is between 1 and 1000. The recommended\n",
      "rescaling is 100 * y.\n",
      "\n",
      "This warning can be disabled by either rescaling y before initializing the\n",
      "model or by setting rescale=False.\n",
      "\n",
      "  warnings.warn(\n"
     ]
    }
   ],
   "source": [
    "# Имплементация модели GARCH(1,1)\n",
    "model = arch_model(dailych, vol='Garch', p=1, q=1)\n",
    "results = model.fit(disp='off')\n",
    "print(results.summary())"
   ]
  },
  {
   "cell_type": "code",
   "execution_count": 959,
   "id": "c975e3bb-b0ed-46cb-afa8-7ee78ddc3d17",
   "metadata": {},
   "outputs": [],
   "source": [
    "# Комментарий по результатам имплементации GARCH:\n",
    "# alpha + beta: 0.98 < 1 (Условие стационарности выполняется)\n",
    "# mu: 6.7975e-04 (t=88.022, p=0.000) (Статистически значим)\n",
    "# omega: 2.5920e-06 (t=135,400, p=0.000) (Статистически значим)\n",
    "# alpha[1]: 0.1000 (t=2.942, p=0.003) (Статистически значим)\n",
    "# beta[1]: 0.8800 (t=28.150, p=0.000) (Статистически значим)"
   ]
  },
  {
   "cell_type": "code",
   "execution_count": 960,
   "id": "09729ca9-5ed9-4c6a-b9d5-a38e9318a62c",
   "metadata": {},
   "outputs": [
    {
     "name": "stdout",
     "output_type": "stream",
     "text": [
      "Шоки волатильности сохраняются около 34.31 дней.\n"
     ]
    }
   ],
   "source": [
    "# Аналитика результатов по модели GARCH\n",
    "half_life = np.log(0.5) / np.log(0.98)\n",
    "print(f'Шоки волатильности сохраняются около{half_life: .2f} дней.')"
   ]
  },
  {
   "cell_type": "code",
   "execution_count": 961,
   "id": "6a6b4c28-808b-466b-b74f-efbcd7dbc739",
   "metadata": {},
   "outputs": [
    {
     "name": "stdout",
     "output_type": "stream",
     "text": [
      "Спрогнозированное математическое ожидание дневного изменения стоимости портфеля  0.075 %\n",
      "Спрогнозированное математическое ожидание изменения стоимости портфеля за весь период  0.075 %\n",
      "Спрогнозированная дневная волатильность портфеля -  0.691 %\n",
      "Спрогнозированная аннуализированная волатильность портфеля -  10.971 %\n"
     ]
    }
   ],
   "source": [
    "# Параметры прогноза временных рядов дневных доходностей\n",
    "forecast_horizon = 1 # Горизонт прогнозирования\n",
    "forecasts = results.forecast(horizon=forecast_horizon) # Прогнозирование временных рядов обученной моделью GARCH\n",
    "volatility_forecast_df = np.sqrt(forecasts.variance.dropna()) # Расчёт дневной волатильности\n",
    "mean_forecast_df = forecasts.mean # Экстракция данных о спрогнозированном среднем\n",
    "forecast_horizon_mean = mean_forecast_df.iloc[-1] * forecast_horizon # Расчёт мат ожидания доходности за весь период прогнозирования\n",
    "forecast_horizon_vol = volatility_forecast_df.iloc[-1] * np.sqrt(forecast_horizon) # Расчёт волатильности на весь горизонт прогнозирования для расчёта VaR\n",
    "print(f'Спрогнозированное математическое ожидание дневного изменения стоимости портфеля {mean_forecast_df['h.1'].iloc[-1]*100: .3f} %')\n",
    "print(f'Спрогнозированное математическое ожидание изменения стоимости портфеля за весь период {forecast_horizon_mean['h.1']*100: .3f} %')\n",
    "print(f'Спрогнозированная дневная волатильность портфеля - {volatility_forecast_df['h.1'].iloc[-1]*100: .3f} %')\n",
    "print(f'Спрогнозированная аннуализированная волатильность портфеля - {volatility_forecast_df['h.1'].iloc[-1] * np.sqrt(252)*100: .3f} %')"
   ]
  },
  {
   "cell_type": "code",
   "execution_count": 962,
   "id": "58a9252d-b288-4ba0-ac75-0945175e13a3",
   "metadata": {},
   "outputs": [
    {
     "name": "stdout",
     "output_type": "stream",
     "text": [
      "Value at Risk для портфеля состоящего из активов: SPY , на уровне доверия 99.0% за период 1 торговых дней составляет 713.75 USD\n"
     ]
    }
   ],
   "source": [
    "#Расчёт метрики Value at Risk основываясь на прогнозе GARCH(1,1)\n",
    "cl = 0.99 # Уровень доверия\n",
    "z_score = stats.norm.ppf(cl) # Расчёт z-score соответствующего уровню доверия\n",
    "portfolio_value_VaR = portfolio_value + (portfolio_value * ((1+mean_forecast_df['h.1'].iloc[-1])**forecast_horizon)-portfolio_value)\n",
    "VaR = portfolio_value_VaR * (forecast_horizon_vol * z_score - forecast_horizon_mean)\n",
    "VaR = VaR['h.1']\n",
    "print(f'Value at Risk для портфеля состоящего из активов: {ticker} , на уровне доверия {cl*100}% за период {forecast_horizon} торговых дней составляет{VaR: .2f} USD')"
   ]
  },
  {
   "cell_type": "code",
   "execution_count": 963,
   "id": "94ffedba-fbd3-4c9a-b73f-653a0e16dca0",
   "metadata": {},
   "outputs": [
    {
     "name": "stderr",
     "output_type": "stream",
     "text": [
      "/var/folders/68/wtl2nd4s0j3fvb1d1nt0qxvh0000gn/T/ipykernel_26723/4114595078.py:5: FutureWarning: YF.download() has changed argument auto_adjust default to True\n",
      "  test_df = yf.download(ticker, startDate_test, endDate_test)['Close'] # Импорт данных для тестовой выборки (суммарно 252 торговых дней)\n",
      "[*********************100%***********************]  1 of 1 completed\n"
     ]
    },
    {
     "data": {
      "text/html": [
       "<div>\n",
       "<style scoped>\n",
       "    .dataframe tbody tr th:only-of-type {\n",
       "        vertical-align: middle;\n",
       "    }\n",
       "\n",
       "    .dataframe tbody tr th {\n",
       "        vertical-align: top;\n",
       "    }\n",
       "\n",
       "    .dataframe thead th {\n",
       "        text-align: right;\n",
       "    }\n",
       "</style>\n",
       "<table border=\"1\" class=\"dataframe\">\n",
       "  <thead>\n",
       "    <tr style=\"text-align: right;\">\n",
       "      <th>Ticker</th>\n",
       "      <th>SPY</th>\n",
       "    </tr>\n",
       "  </thead>\n",
       "  <tbody>\n",
       "    <tr>\n",
       "      <th>count</th>\n",
       "      <td>252.000000</td>\n",
       "    </tr>\n",
       "    <tr>\n",
       "      <th>mean</th>\n",
       "      <td>532.770824</td>\n",
       "    </tr>\n",
       "    <tr>\n",
       "      <th>std</th>\n",
       "      <td>37.997617</td>\n",
       "    </tr>\n",
       "    <tr>\n",
       "      <th>min</th>\n",
       "      <td>457.354462</td>\n",
       "    </tr>\n",
       "    <tr>\n",
       "      <th>25%</th>\n",
       "      <td>501.977509</td>\n",
       "    </tr>\n",
       "    <tr>\n",
       "      <th>50%</th>\n",
       "      <td>533.871979</td>\n",
       "    </tr>\n",
       "    <tr>\n",
       "      <th>75%</th>\n",
       "      <td>563.022522</td>\n",
       "    </tr>\n",
       "    <tr>\n",
       "      <th>max</th>\n",
       "      <td>600.509277</td>\n",
       "    </tr>\n",
       "  </tbody>\n",
       "</table>\n",
       "</div>"
      ],
      "text/plain": [
       "Ticker         SPY\n",
       "count   252.000000\n",
       "mean    532.770824\n",
       "std      37.997617\n",
       "min     457.354462\n",
       "25%     501.977509\n",
       "50%     533.871979\n",
       "75%     563.022522\n",
       "max     600.509277"
      ]
     },
     "execution_count": 963,
     "metadata": {},
     "output_type": "execute_result"
    }
   ],
   "source": [
    "# Тестирование модели\n",
    "# Импорт данных тестовой выборки\n",
    "startDate_test = '2024-01-01' # Дата начала периода для тестовой выборки\n",
    "endDate_test = '2025-01-01' # Дата окончания периода для тестовой выборки\n",
    "test_df = yf.download(ticker, startDate_test, endDate_test)['Close'] # Импорт данных для тестовой выборки (суммарно 252 торговых дней)\n",
    "test_df.describe() # Проверяем что суммарно в выборке 252 торговых дней"
   ]
  },
  {
   "cell_type": "code",
   "execution_count": 964,
   "id": "921cdabf-4add-4988-bb82-58d4802e0de1",
   "metadata": {},
   "outputs": [
    {
     "name": "stdout",
     "output_type": "stream",
     "text": [
      "Стоимость портфеля на последний импортированный день тестовой выборки - 58098.91 USD\n",
      "Удельный вес каждого актива в портфеле на момент последнего дня тестовой выборки - 100.0 %\n"
     ]
    }
   ],
   "source": [
    "#Расчет портфельных метрик тестовой выборки\n",
    "portfolio_value_test = np.sum(n_of_shares * np.array(test_df.tail(1))) # Стоимость портфеля на последний импортированный день тестовой выборки\n",
    "portfolio_value_all_test = np.sum(n_of_shares * np.array(test_df), axis=1) # Стоимости портфеля на конец каждого дня в тестовой выборке\n",
    "weights_test = np.squeeze((np.array(test_df.tail(1)) * n_of_shares)/portfolio_value_test) # Удельный вес каждого актива в портфеле на момент последнего дня тестовой выборки\n",
    "print(f'Стоимость портфеля на последний импортированный день тестовой выборки -{portfolio_value_test: .2f} USD') # Вывод информации по стоимости портфеля\n",
    "print(f'Удельный вес каждого актива в портфеле на момент последнего дня тестовой выборки - {weights_test*100} %')# Вывод информации об удельных весах активов"
   ]
  },
  {
   "cell_type": "code",
   "execution_count": 965,
   "id": "cb1a390b-98bd-4eb3-b442-bf9cade3008e",
   "metadata": {},
   "outputs": [
    {
     "name": "stdout",
     "output_type": "stream",
     "text": [
      "Историческое математическое ожидание дневного изменения стоимости портфеля тестовой выборки -  0.091 %\n",
      "Историческая дневная волатильность портфеля тестовой выборки -  0.793 %\n",
      "Историческая аннуализированная волатильность портфеля тестовой выборки -  12.593 %\n"
     ]
    }
   ],
   "source": [
    "#Расчёт статистических метрик тестовой выборки\n",
    "portfolio_value_df_test = pd.DataFrame(portfolio_value_all_test) # Преобразование numpy array в pd dataframe\n",
    "dailych_test = np.log(portfolio_value_df_test/portfolio_value_df_test.shift(1)).dropna() # Создание датафрейма с временными рядами дневных логнормальных изменений стоимости портфеля тестовой выборки\n",
    "portfolio_mean_test = dailych_test.mean().iloc[0] # Математическое ожидание дневного изменения стоимости портфеля тестовой выборки\n",
    "portfolio_std_test = dailych_test.std().iloc[0] # Дневная волатильность портфеля тестовой выборки\n",
    "portfolio_std_annual_test = (dailych_test.std().iloc[0]) * np.sqrt(252) # Аннуализированная волатильность портфеля за весь период импорта данных тестовой выборки\n",
    "print(f'Историческое математическое ожидание дневного изменения стоимости портфеля тестовой выборки - {portfolio_mean_test*100: .3f} %')\n",
    "print(f'Историческая дневная волатильность портфеля тестовой выборки - {portfolio_std_test*100: .3f} %')\n",
    "print(f'Историческая аннуализированная волатильность портфеля тестовой выборки - {portfolio_std_annual_test*100: .3f} %')"
   ]
  },
  {
   "cell_type": "code",
   "execution_count": 966,
   "id": "afc8ed4d-83de-4158-b088-05bdd1ca095b",
   "metadata": {},
   "outputs": [
    {
     "name": "stdout",
     "output_type": "stream",
     "text": [
      "Value at Risk за период 1 д. тестовой выборки с уровнем доверия 99.0% составляет  1019.47 USD\n"
     ]
    }
   ],
   "source": [
    "# Расчёт Value at Risk для тестовой выборки\n",
    "portfolio_std_test_VaR = portfolio_std_test * np.sqrt(forecast_horizon)\n",
    "portfolio_mean_test_VaR = portfolio_mean_test * forecast_horizon\n",
    "portfolio_value_test = portfolio_value_df_test.tail(1).iloc[0,0]\n",
    "VaR_test = portfolio_value_test * (portfolio_std_test_VaR * z_score - portfolio_mean_test_VaR)\n",
    "print(f'Value at Risk за период {forecast_horizon} д. тестовой выборки с уровнем доверия {cl*100}% составляет {VaR_test: .2f} USD')"
   ]
  },
  {
   "cell_type": "code",
   "execution_count": 967,
   "id": "65a35610-7ed6-4514-87ca-90eee5a73c42",
   "metadata": {},
   "outputs": [
    {
     "name": "stdout",
     "output_type": "stream",
     "text": [
      "Количество дней в тестовой выборке, в которых убыток превысил прогнозный 1 д. 99.0% VaR составляет 12\n"
     ]
    }
   ],
   "source": [
    "# Расчёт P/L по данным тестовой выборки\n",
    "pl_df = (portfolio_value_df_test-portfolio_value_df_test.shift(1)).dropna()\n",
    "loss_threshold = VaR\n",
    "exceptions_n = (pl_df.iloc[:, 0] < -loss_threshold).sum()\n",
    "print(f'Количество дней в тестовой выборке, в которых убыток превысил прогнозный {forecast_horizon} д. {cl*100}% VaR составляет {exceptions_n}')"
   ]
  },
  {
   "cell_type": "code",
   "execution_count": 968,
   "id": "70b97d9b-1c24-406f-8007-d0ce43061e97",
   "metadata": {},
   "outputs": [
    {
     "name": "stdout",
     "output_type": "stream",
     "text": [
      "H0 отвергается, модель недооценивает риск. Количество выбросов - 12.\n"
     ]
    }
   ],
   "source": [
    "# Тестирование гипотезы на уровень точности модели (калибровка)\n",
    "# H0 - Модель не недооценивает риск\n",
    "# H1 - Модель недооценивает риск\n",
    "alpha = 1-cl\n",
    "z_statistic = exceptions_n-alpha*(252)/np.sqrt(alpha*(1-alpha)*252)\n",
    "z_critical = stats.norm.ppf(1 - alpha)\n",
    "if z_statistic <= -z_critical:\n",
    "    print(f'H0 не отвергается, модель не недооценивает риск. Количество выбросов - {exceptions_n}.')\n",
    "else:\n",
    "    print(f'H0 отвергается, модель недооценивает риск. Количество выбросов - {exceptions_n}.')"
   ]
  },
  {
   "cell_type": "code",
   "execution_count": 973,
   "id": "e5dccc14-ba87-4298-8502-cef60e256afb",
   "metadata": {},
   "outputs": [
    {
     "name": "stdout",
     "output_type": "stream",
     "text": [
      "\n",
      "╔═══════════════════════════════════════════════════════╗\n",
      "║                 САММАРИ ИССЛЕДОВАНИЯ                 ║\n",
      "╚═══════════════════════════════════════════════════════╝\n",
      "\n",
      "▬▬▬▬▬▬▬▬▬▬▬▬▬▬▬▬▬▬▬▬▬▬▬▬▬▬▬▬▬▬▬▬▬▬▬▬▬▬▬▬▬▬\n",
      "        ПОРТФЕЛЬНЫЕ МЕТРИКИ (ОБУЧАЮЩАЯ ВЫБОРКА)\n",
      "▬▬▬▬▬▬▬▬▬▬▬▬▬▬▬▬▬▬▬▬▬▬▬▬▬▬▬▬▬▬▬▬▬▬▬▬▬▬▬▬▬▬\n",
      "• Стоимость портфеля:        46521.39 USD\n",
      "• Веса активов: 100.0 %\n",
      "\n",
      "▬▬▬▬▬▬▬▬▬▬▬▬▬▬▬▬▬▬▬▬▬▬▬▬▬▬▬▬▬▬▬▬▬▬▬▬▬▬▬▬▬▬\n",
      "       СТАТИСТИЧЕСКИЕ МЕТРИКИ (ОБУЧАЮЩАЯ ВЫБОРКА)\n",
      "▬▬▬▬▬▬▬▬▬▬▬▬▬▬▬▬▬▬▬▬▬▬▬▬▬▬▬▬▬▬▬▬▬▬▬▬▬▬▬▬▬▬\n",
      "• Мат. ожидание (дневное):      0.040 %\n",
      "• Волатильность (дневная):      1.109 %\n",
      "• Волатильность (годовая):     17.607 %\n",
      "\n",
      "▬▬▬▬▬▬▬▬▬▬▬▬▬▬▬▬▬▬▬▬▬▬▬▬▬▬▬▬▬▬▬▬▬▬▬▬▬▬▬▬▬▬\n",
      "               ПРОГНОЗ GARCH(1,1)\n",
      "▬▬▬▬▬▬▬▬▬▬▬▬▬▬▬▬▬▬▬▬▬▬▬▬▬▬▬▬▬▬▬▬▬▬▬▬▬▬▬▬▬▬\n",
      "• Прогноз мат. ожидания (день):    0.075 %\n",
      "• Прогноз мат. ожидания (1 д.): 0.075 %\n",
      "• Прогноз волатильности (дневная):  0.691 %\n",
      "• Прогноз волатильности (годовая): 10.971 %\n",
      "\n",
      "▬▬▬▬▬▬▬▬▬▬▬▬▬▬▬▬▬▬▬▬▬▬▬▬▬▬▬▬▬▬▬▬▬▬▬▬▬▬▬▬▬▬\n",
      "        ПОРТФЕЛЬНЫЕ МЕТРИКИ (ТЕСТОВАЯ ВЫБОРКА)\n",
      "▬▬▬▬▬▬▬▬▬▬▬▬▬▬▬▬▬▬▬▬▬▬▬▬▬▬▬▬▬▬▬▬▬▬▬▬▬▬▬▬▬▬\n",
      "• Стоимость портфеля:        58098.91 USD\n",
      "• Веса активов: 100.0 %\n",
      "\n",
      "▬▬▬▬▬▬▬▬▬▬▬▬▬▬▬▬▬▬▬▬▬▬▬▬▬▬▬▬▬▬▬▬▬▬▬▬▬▬▬▬▬▬\n",
      "       СТАТИСТИЧЕСКИЕ МЕТРИКИ (ТЕСТОВАЯ ВЫБОРКА)\n",
      "▬▬▬▬▬▬▬▬▬▬▬▬▬▬▬▬▬▬▬▬▬▬▬▬▬▬▬▬▬▬▬▬▬▬▬▬▬▬▬▬▬▬\n",
      "• Мат. ожидание (дневное):      0.091 %\n",
      "• Волатильность (дневная):      0.793 %\n",
      "• Волатильность (годовая):     12.593 %\n",
      "\n",
      "▬▬▬▬▬▬▬▬▬▬▬▬▬▬▬▬▬▬▬▬▬▬▬▬▬▬▬▬▬▬▬▬▬▬▬▬▬▬▬▬▬▬\n",
      "                 VaR ПРОГНОЗ\n",
      "▬▬▬▬▬▬▬▬▬▬▬▬▬▬▬▬▬▬▬▬▬▬▬▬▬▬▬▬▬▬▬▬▬▬▬▬▬▬▬▬▬▬\n",
      "• Активы: SPY\n",
      "• Уровень доверия: 99.0%\n",
      "• Период: 1 дней\n",
      "• VaR:          713.75 USD\n",
      "\n",
      "▬▬▬▬▬▬▬▬▬▬▬▬▬▬▬▬▬▬▬▬▬▬▬▬▬▬▬▬▬▬▬▬▬▬▬▬▬▬▬▬▬▬\n",
      "               VaR ТЕСТОВОЙ ВЫБОРКИ\n",
      "▬▬▬▬▬▬▬▬▬▬▬▬▬▬▬▬▬▬▬▬▬▬▬▬▬▬▬▬▬▬▬▬▬▬▬▬▬▬▬▬▬▬\n",
      "• Период: 1 дней\n",
      "• Уровень доверия: 99.0%\n",
      "• VaR:         1019.47 USD\n",
      "\n",
      "▬▬▬▬▬▬▬▬▬▬▬▬▬▬▬▬▬▬▬▬▬▬▬▬▬▬▬▬▬▬▬▬▬▬▬▬▬▬▬▬▬▬\n",
      "               ТЕСТИРОВАНИЕ МОДЕЛИ\n",
      "▬▬▬▬▬▬▬▬▬▬▬▬▬▬▬▬▬▬▬▬▬▬▬▬▬▬▬▬▬▬▬▬▬▬▬▬▬▬▬▬▬▬\n",
      "• Количество выбросов: 12\n",
      "• Z-статистика: 10.4046\n",
      "• Критическое значение: 2.3263\n",
      "• 🚨 РЕЗУЛЬТАТ: H0 ОТВЕРГАЕТСЯ\n",
      "  Модель НЕДООЦЕНИВАЕТ риск\n",
      "\n",
      "╔═══════════════════════════════════════════════════════╗\n",
      "║                 ИССЛЕДОВАНИЕ ЗАВЕРШЕНО               ║\n",
      "╚═══════════════════════════════════════════════════════╝\n"
     ]
    }
   ],
   "source": [
    "# Саммари исследования\n",
    "print(\"\")\n",
    "print(\"╔═══════════════════════════════════════════════════════╗\")\n",
    "print(\"║                 САММАРИ ИССЛЕДОВАНИЯ                 ║\")\n",
    "print(\"╚═══════════════════════════════════════════════════════╝\")\n",
    "print(\"\")\n",
    "\n",
    "print(\"▬▬▬▬▬▬▬▬▬▬▬▬▬▬▬▬▬▬▬▬▬▬▬▬▬▬▬▬▬▬▬▬▬▬▬▬▬▬▬▬▬▬\")\n",
    "print(\"        ПОРТФЕЛЬНЫЕ МЕТРИКИ (ОБУЧАЮЩАЯ ВЫБОРКА)\")\n",
    "print(\"▬▬▬▬▬▬▬▬▬▬▬▬▬▬▬▬▬▬▬▬▬▬▬▬▬▬▬▬▬▬▬▬▬▬▬▬▬▬▬▬▬▬\")\n",
    "print(f\"• Стоимость портфеля: {portfolio_value:>15.2f} USD\")\n",
    "print(f\"• Веса активов: {weights*100} %\")\n",
    "print(\"\")\n",
    "\n",
    "print(\"▬▬▬▬▬▬▬▬▬▬▬▬▬▬▬▬▬▬▬▬▬▬▬▬▬▬▬▬▬▬▬▬▬▬▬▬▬▬▬▬▬▬\")\n",
    "print(\"       СТАТИСТИЧЕСКИЕ МЕТРИКИ (ОБУЧАЮЩАЯ ВЫБОРКА)\")\n",
    "print(\"▬▬▬▬▬▬▬▬▬▬▬▬▬▬▬▬▬▬▬▬▬▬▬▬▬▬▬▬▬▬▬▬▬▬▬▬▬▬▬▬▬▬\")\n",
    "print(f\"• Мат. ожидание (дневное): {portfolio_mean*100:>10.3f} %\")\n",
    "print(f\"• Волатильность (дневная): {portfolio_std*100:>10.3f} %\")\n",
    "print(f\"• Волатильность (годовая): {portfolio_std_annual*100:>10.3f} %\")\n",
    "print(\"\")\n",
    "\n",
    "print(\"▬▬▬▬▬▬▬▬▬▬▬▬▬▬▬▬▬▬▬▬▬▬▬▬▬▬▬▬▬▬▬▬▬▬▬▬▬▬▬▬▬▬\")\n",
    "print(\"               ПРОГНОЗ GARCH(1,1)\")\n",
    "print(\"▬▬▬▬▬▬▬▬▬▬▬▬▬▬▬▬▬▬▬▬▬▬▬▬▬▬▬▬▬▬▬▬▬▬▬▬▬▬▬▬▬▬\")\n",
    "print(f\"• Прогноз мат. ожидания (день): {mean_forecast_df['h.1'].iloc[-1]*100:>8.3f} %\")\n",
    "print(f\"• Прогноз мат. ожидания ({forecast_horizon} д.): {forecast_horizon_mean['h.1']*100:>5.3f} %\")\n",
    "print(f\"• Прогноз волатильности (дневная): {volatility_forecast_df['h.1'].iloc[-1]*100:>6.3f} %\")\n",
    "print(f\"• Прогноз волатильности (годовая): {volatility_forecast_df['h.1'].iloc[-1] * np.sqrt(252)*100:>6.3f} %\")\n",
    "print(\"\")\n",
    "\n",
    "print(\"▬▬▬▬▬▬▬▬▬▬▬▬▬▬▬▬▬▬▬▬▬▬▬▬▬▬▬▬▬▬▬▬▬▬▬▬▬▬▬▬▬▬\")\n",
    "print(\"        ПОРТФЕЛЬНЫЕ МЕТРИКИ (ТЕСТОВАЯ ВЫБОРКА)\")\n",
    "print(\"▬▬▬▬▬▬▬▬▬▬▬▬▬▬▬▬▬▬▬▬▬▬▬▬▬▬▬▬▬▬▬▬▬▬▬▬▬▬▬▬▬▬\")\n",
    "print(f\"• Стоимость портфеля: {portfolio_value_test:>15.2f} USD\")\n",
    "print(f\"• Веса активов: {weights_test*100} %\")\n",
    "print(\"\")\n",
    "\n",
    "print(\"▬▬▬▬▬▬▬▬▬▬▬▬▬▬▬▬▬▬▬▬▬▬▬▬▬▬▬▬▬▬▬▬▬▬▬▬▬▬▬▬▬▬\")\n",
    "print(\"       СТАТИСТИЧЕСКИЕ МЕТРИКИ (ТЕСТОВАЯ ВЫБОРКА)\")\n",
    "print(\"▬▬▬▬▬▬▬▬▬▬▬▬▬▬▬▬▬▬▬▬▬▬▬▬▬▬▬▬▬▬▬▬▬▬▬▬▬▬▬▬▬▬\")\n",
    "print(f\"• Мат. ожидание (дневное): {portfolio_mean_test*100:>10.3f} %\")\n",
    "print(f\"• Волатильность (дневная): {portfolio_std_test*100:>10.3f} %\")\n",
    "print(f\"• Волатильность (годовая): {portfolio_std_annual_test*100:>10.3f} %\")\n",
    "print(\"\")\n",
    "\n",
    "print(\"▬▬▬▬▬▬▬▬▬▬▬▬▬▬▬▬▬▬▬▬▬▬▬▬▬▬▬▬▬▬▬▬▬▬▬▬▬▬▬▬▬▬\")\n",
    "print(\"                 VaR ПРОГНОЗ\")\n",
    "print(\"▬▬▬▬▬▬▬▬▬▬▬▬▬▬▬▬▬▬▬▬▬▬▬▬▬▬▬▬▬▬▬▬▬▬▬▬▬▬▬▬▬▬\")\n",
    "print(f\"• Активы: {ticker}\")\n",
    "print(f\"• Уровень доверия: {cl*100}%\")\n",
    "print(f\"• Период: {forecast_horizon} дней\")\n",
    "print(f\"• VaR: {VaR:>15.2f} USD\")\n",
    "print(\"\")\n",
    "\n",
    "print(\"▬▬▬▬▬▬▬▬▬▬▬▬▬▬▬▬▬▬▬▬▬▬▬▬▬▬▬▬▬▬▬▬▬▬▬▬▬▬▬▬▬▬\")\n",
    "print(\"               VaR ТЕСТОВОЙ ВЫБОРКИ\")\n",
    "print(\"▬▬▬▬▬▬▬▬▬▬▬▬▬▬▬▬▬▬▬▬▬▬▬▬▬▬▬▬▬▬▬▬▬▬▬▬▬▬▬▬▬▬\")\n",
    "print(f\"• Период: {forecast_horizon} дней\")\n",
    "print(f\"• Уровень доверия: {cl*100}%\")\n",
    "print(f\"• VaR: {VaR_test:>15.2f} USD\")\n",
    "print(\"\")\n",
    "\n",
    "print(\"▬▬▬▬▬▬▬▬▬▬▬▬▬▬▬▬▬▬▬▬▬▬▬▬▬▬▬▬▬▬▬▬▬▬▬▬▬▬▬▬▬▬\")\n",
    "print(\"               ТЕСТИРОВАНИЕ МОДЕЛИ\")\n",
    "print(\"▬▬▬▬▬▬▬▬▬▬▬▬▬▬▬▬▬▬▬▬▬▬▬▬▬▬▬▬▬▬▬▬▬▬▬▬▬▬▬▬▬▬\")\n",
    "print(f\"• Количество выбросов: {exceptions_n}\")\n",
    "print(f\"• Z-статистика: {z_statistic:.4f}\")\n",
    "print(f\"• Критическое значение: {z_critical:.4f}\")\n",
    "\n",
    "if z_statistic > z_critical:\n",
    "    print(\"• 🚨 РЕЗУЛЬТАТ: H0 ОТВЕРГАЕТСЯ\")\n",
    "    print(\"  Модель НЕДООЦЕНИВАЕТ риск\")\n",
    "else:\n",
    "    print(\"• ✅ РЕЗУЛЬТАТ: H0 НЕ ОТВЕРГАЕТСЯ\")\n",
    "    print(\"  Модель адекватно оценивает риск\")\n",
    "\n",
    "print(\"\")\n",
    "print(\"╔═══════════════════════════════════════════════════════╗\")\n",
    "print(\"║                 ИССЛЕДОВАНИЕ ЗАВЕРШЕНО               ║\")\n",
    "print(\"╚═══════════════════════════════════════════════════════╝\")"
   ]
  },
  {
   "cell_type": "code",
   "execution_count": null,
   "id": "575f58ae-47eb-4a07-aa27-5083ecbafd46",
   "metadata": {},
   "outputs": [],
   "source": []
  }
 ],
 "metadata": {
  "kernelspec": {
   "display_name": "Python [conda env:base] *",
   "language": "python",
   "name": "conda-base-py"
  },
  "language_info": {
   "codemirror_mode": {
    "name": "ipython",
    "version": 3
   },
   "file_extension": ".py",
   "mimetype": "text/x-python",
   "name": "python",
   "nbconvert_exporter": "python",
   "pygments_lexer": "ipython3",
   "version": "3.12.4"
  }
 },
 "nbformat": 4,
 "nbformat_minor": 5
}
