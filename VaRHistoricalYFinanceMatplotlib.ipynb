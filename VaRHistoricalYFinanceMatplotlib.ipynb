{
 "cells": [
  {
   "cell_type": "code",
   "execution_count": 99,
   "id": "076e2d1b-0430-4dbd-8ef6-355de4a2b5b3",
   "metadata": {},
   "outputs": [],
   "source": [
    "#Libraries import\n",
    "import yfinance as yf\n",
    "import pandas as pd\n",
    "import numpy as np\n",
    "import seaborn as sns\n",
    "import datetime as dt\n",
    "from scipy import stats\n",
    "import matplotlib.pyplot as plt"
   ]
  },
  {
   "cell_type": "code",
   "execution_count": 73,
   "id": "b22a1bc8-813a-49fc-9a3f-e0d9d3d7f517",
   "metadata": {
    "scrolled": true
   },
   "outputs": [
    {
     "name": "stderr",
     "output_type": "stream",
     "text": [
      "[*********************100%***********************]  2 of 2 completed\n"
     ]
    }
   ],
   "source": [
    "# Data import\n",
    "tickers = [\"SPY\",\"QQQ\"]\n",
    "startDate = \"2024-01-01\"\n",
    "endDate = dt.datetime.now()\n",
    "data = yf.download(tickers, startDate, endDate)"
   ]
  },
  {
   "cell_type": "code",
   "execution_count": 74,
   "id": "510f5cf7-805d-4416-b080-a6e7c36df97c",
   "metadata": {},
   "outputs": [],
   "source": [
    "#Filtering the data\n",
    "VaRdata = data ['Adj Close']"
   ]
  },
  {
   "cell_type": "code",
   "execution_count": 75,
   "id": "2b9778bd-f3b7-4a0c-87bb-4ae5f542ae15",
   "metadata": {},
   "outputs": [
    {
     "data": {
      "text/html": [
       "<div>\n",
       "<style scoped>\n",
       "    .dataframe tbody tr th:only-of-type {\n",
       "        vertical-align: middle;\n",
       "    }\n",
       "\n",
       "    .dataframe tbody tr th {\n",
       "        vertical-align: top;\n",
       "    }\n",
       "\n",
       "    .dataframe thead th {\n",
       "        text-align: right;\n",
       "    }\n",
       "</style>\n",
       "<table border=\"1\" class=\"dataframe\">\n",
       "  <thead>\n",
       "    <tr style=\"text-align: right;\">\n",
       "      <th>Ticker</th>\n",
       "      <th>QQQ</th>\n",
       "      <th>SPY</th>\n",
       "    </tr>\n",
       "    <tr>\n",
       "      <th>Date</th>\n",
       "      <th></th>\n",
       "      <th></th>\n",
       "    </tr>\n",
       "  </thead>\n",
       "  <tbody>\n",
       "    <tr>\n",
       "      <th>2024-01-03 00:00:00+00:00</th>\n",
       "      <td>-0.010638</td>\n",
       "      <td>-0.008200</td>\n",
       "    </tr>\n",
       "    <tr>\n",
       "      <th>2024-01-04 00:00:00+00:00</th>\n",
       "      <td>-0.005160</td>\n",
       "      <td>-0.003226</td>\n",
       "    </tr>\n",
       "    <tr>\n",
       "      <th>2024-01-05 00:00:00+00:00</th>\n",
       "      <td>0.001185</td>\n",
       "      <td>0.001369</td>\n",
       "    </tr>\n",
       "    <tr>\n",
       "      <th>2024-01-08 00:00:00+00:00</th>\n",
       "      <td>0.020457</td>\n",
       "      <td>0.014175</td>\n",
       "    </tr>\n",
       "    <tr>\n",
       "      <th>2024-01-09 00:00:00+00:00</th>\n",
       "      <td>0.001974</td>\n",
       "      <td>-0.001518</td>\n",
       "    </tr>\n",
       "    <tr>\n",
       "      <th>...</th>\n",
       "      <td>...</td>\n",
       "      <td>...</td>\n",
       "    </tr>\n",
       "    <tr>\n",
       "      <th>2025-02-07 00:00:00+00:00</th>\n",
       "      <td>-0.012694</td>\n",
       "      <td>-0.009196</td>\n",
       "    </tr>\n",
       "    <tr>\n",
       "      <th>2025-02-10 00:00:00+00:00</th>\n",
       "      <td>0.012032</td>\n",
       "      <td>0.006768</td>\n",
       "    </tr>\n",
       "    <tr>\n",
       "      <th>2025-02-11 00:00:00+00:00</th>\n",
       "      <td>-0.002384</td>\n",
       "      <td>0.000760</td>\n",
       "    </tr>\n",
       "    <tr>\n",
       "      <th>2025-02-12 00:00:00+00:00</th>\n",
       "      <td>0.000587</td>\n",
       "      <td>-0.003227</td>\n",
       "    </tr>\n",
       "    <tr>\n",
       "      <th>2025-02-13 00:00:00+00:00</th>\n",
       "      <td>0.007092</td>\n",
       "      <td>0.004333</td>\n",
       "    </tr>\n",
       "  </tbody>\n",
       "</table>\n",
       "<p>280 rows × 2 columns</p>\n",
       "</div>"
      ],
      "text/plain": [
       "Ticker                          QQQ       SPY\n",
       "Date                                         \n",
       "2024-01-03 00:00:00+00:00 -0.010638 -0.008200\n",
       "2024-01-04 00:00:00+00:00 -0.005160 -0.003226\n",
       "2024-01-05 00:00:00+00:00  0.001185  0.001369\n",
       "2024-01-08 00:00:00+00:00  0.020457  0.014175\n",
       "2024-01-09 00:00:00+00:00  0.001974 -0.001518\n",
       "...                             ...       ...\n",
       "2025-02-07 00:00:00+00:00 -0.012694 -0.009196\n",
       "2025-02-10 00:00:00+00:00  0.012032  0.006768\n",
       "2025-02-11 00:00:00+00:00 -0.002384  0.000760\n",
       "2025-02-12 00:00:00+00:00  0.000587 -0.003227\n",
       "2025-02-13 00:00:00+00:00  0.007092  0.004333\n",
       "\n",
       "[280 rows x 2 columns]"
      ]
     },
     "execution_count": 75,
     "metadata": {},
     "output_type": "execute_result"
    }
   ],
   "source": [
    "#Returns calc\n",
    "returns = np.log(VaRdata/VaRdata.shift(1))\n",
    "returns = returns.dropna()\n",
    "returns"
   ]
  },
  {
   "cell_type": "code",
   "execution_count": 76,
   "id": "bf4c367c-292f-4514-9c79-994035d7dc69",
   "metadata": {},
   "outputs": [],
   "source": [
    "#Portfolio info\n",
    "weights = [0.5, 0.5]\n",
    "portfolio_value = 500000\n",
    "portfolio_return = (returns * weights).sum(axis=1)"
   ]
  },
  {
   "cell_type": "code",
   "execution_count": 85,
   "id": "8acb4bbb-f49c-4cea-a170-04af6c803223",
   "metadata": {},
   "outputs": [
    {
     "name": "stdout",
     "output_type": "stream",
     "text": [
      "Убыток за период 10 д. не превысит 29926.54766102487 единиц валюты в 99.0 % случаев.\n"
     ]
    }
   ],
   "source": [
    "#VaR\n",
    "days = 10\n",
    "VaRconfidence_level = 0.99\n",
    "VaRconfpct = VaRconfidence_level*100\n",
    "\n",
    "timeReturns = portfolio_return.rolling(days).sum()\n",
    "timeReturns.dropna()\n",
    "timeReturns = timeReturns.dropna()\n",
    "VaR = -np.percentile(timeReturns, 100 - VaRconfidence_level * 100) * portfolio_value\n",
    "print(\"Убыток за период\", days,\"д. не превысит\", VaR, 'единиц валюты в', VaRconfpct,\"% случаев.\")"
   ]
  },
  {
   "cell_type": "code",
   "execution_count": 131,
   "id": "f46f9340-dc66-45a9-9482-81b47fb2b378",
   "metadata": {},
   "outputs": [
    {
     "data": {
      "image/png": "[encoded data removed]",
      "text/plain": [
       "<Figure size 640x480 with 1 Axes>"
      ]
     },
     "metadata": {},
     "output_type": "display_data"
    }
   ],
   "source": [
    "plotreturns = timeReturns * portfolio_value\n",
    "plt.hist(plotreturns.dropna(), bins = 50, density = True)\n",
    "plt.xlabel(f'{days}-Day Portfolio Return')\n",
    "plt.ylabel('Frequency')\n",
    "plt.title(f'Value at Risk Model Visualization')\n",
    "plt.axvline(-VaR, color='r', linestyle='solid', linewidth=1, label = f'VaR at {VaRconfidence_level:.0%} confidence level')\n",
    "plt.legend()\n",
    "plt.show()"
   ]
  },
  {
   "cell_type": "code",
   "execution_count": null,
   "id": "074490d2-82ea-4669-b5bc-fbb6901aae0c",
   "metadata": {},
   "outputs": [],
   "source": []
  }
 ],
 "metadata": {
  "kernelspec": {
   "display_name": "Python 3 (ipykernel)",
   "language": "python",
   "name": "python3"
  },
  "language_info": {
   "codemirror_mode": {
    "name": "ipython",
    "version": 3
   },
   "file_extension": ".py",
   "mimetype": "text/x-python",
   "name": "python",
   "nbconvert_exporter": "python",
   "pygments_lexer": "ipython3",
   "version": "3.12.4"
  }
 },
 "nbformat": 4,
 "nbformat_minor": 5
}
