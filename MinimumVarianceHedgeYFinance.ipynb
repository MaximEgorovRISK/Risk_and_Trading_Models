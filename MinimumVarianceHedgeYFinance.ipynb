{
 "cells": [
  {
   "cell_type": "code",
   "execution_count": 109,
   "id": "e2d4f441-888a-48e7-919d-e24b84edcf04",
   "metadata": {},
   "outputs": [],
   "source": [
    "#Libraries import\n",
    "import yfinance as yf\n",
    "import pandas as pd\n",
    "import numpy as np\n",
    "import datetime as dt\n",
    "import matplotlib.pyplot as plt\n",
    "import seaborn as sns"
   ]
  },
  {
   "cell_type": "code",
   "execution_count": 110,
   "id": "93629217-5205-4012-b5ee-c11561a7dff8",
   "metadata": {},
   "outputs": [
    {
     "name": "stderr",
     "output_type": "stream",
     "text": [
      "[*********************100%***********************]  1 of 1 completed\n",
      "[*********************100%***********************]  1 of 1 completed\n"
     ]
    },
    {
     "data": {
      "text/html": [
       "<div>\n",
       "<style scoped>\n",
       "    .dataframe tbody tr th:only-of-type {\n",
       "        vertical-align: middle;\n",
       "    }\n",
       "\n",
       "    .dataframe tbody tr th {\n",
       "        vertical-align: top;\n",
       "    }\n",
       "\n",
       "    .dataframe thead th {\n",
       "        text-align: right;\n",
       "    }\n",
       "</style>\n",
       "<table border=\"1\" class=\"dataframe\">\n",
       "  <thead>\n",
       "    <tr style=\"text-align: right;\">\n",
       "      <th>Ticker</th>\n",
       "      <th>SPY</th>\n",
       "    </tr>\n",
       "    <tr>\n",
       "      <th>Date</th>\n",
       "      <th></th>\n",
       "    </tr>\n",
       "  </thead>\n",
       "  <tbody>\n",
       "    <tr>\n",
       "      <th>2024-01-02</th>\n",
       "      <td>466.663971</td>\n",
       "    </tr>\n",
       "    <tr>\n",
       "      <th>2024-01-03</th>\n",
       "      <td>462.852844</td>\n",
       "    </tr>\n",
       "    <tr>\n",
       "      <th>2024-01-04</th>\n",
       "      <td>461.362000</td>\n",
       "    </tr>\n",
       "    <tr>\n",
       "      <th>2024-01-05</th>\n",
       "      <td>461.993866</td>\n",
       "    </tr>\n",
       "    <tr>\n",
       "      <th>2024-01-08</th>\n",
       "      <td>468.589264</td>\n",
       "    </tr>\n",
       "    <tr>\n",
       "      <th>...</th>\n",
       "      <td>...</td>\n",
       "    </tr>\n",
       "    <tr>\n",
       "      <th>2025-02-13</th>\n",
       "      <td>609.729980</td>\n",
       "    </tr>\n",
       "    <tr>\n",
       "      <th>2025-02-14</th>\n",
       "      <td>609.700012</td>\n",
       "    </tr>\n",
       "    <tr>\n",
       "      <th>2025-02-18</th>\n",
       "      <td>611.489990</td>\n",
       "    </tr>\n",
       "    <tr>\n",
       "      <th>2025-02-19</th>\n",
       "      <td>612.929993</td>\n",
       "    </tr>\n",
       "    <tr>\n",
       "      <th>2025-02-20</th>\n",
       "      <td>609.409973</td>\n",
       "    </tr>\n",
       "  </tbody>\n",
       "</table>\n",
       "<p>285 rows × 1 columns</p>\n",
       "</div>"
      ],
      "text/plain": [
       "Ticker             SPY\n",
       "Date                  \n",
       "2024-01-02  466.663971\n",
       "2024-01-03  462.852844\n",
       "2024-01-04  461.362000\n",
       "2024-01-05  461.993866\n",
       "2024-01-08  468.589264\n",
       "...                ...\n",
       "2025-02-13  609.729980\n",
       "2025-02-14  609.700012\n",
       "2025-02-18  611.489990\n",
       "2025-02-19  612.929993\n",
       "2025-02-20  609.409973\n",
       "\n",
       "[285 rows x 1 columns]"
      ]
     },
     "execution_count": 110,
     "metadata": {},
     "output_type": "execute_result"
    }
   ],
   "source": [
    "#Data download using Yahoo Finance\n",
    "Fticker = [\"ES=F\"]\n",
    "Sticker = [\"SPY\"]\n",
    "startDate = \"2024-01-01\"\n",
    "endDate = dt.datetime.now()\n",
    "Fdata = yf.download(Fticker, startDate, endDate) ['Close']\n",
    "Sdata = yf.download(Sticker, startDate, endDate) ['Close']\n",
    "Fdata.dropna()\n",
    "Sdata.dropna()"
   ]
  },
  {
   "cell_type": "code",
   "execution_count": 111,
   "id": "acaf0377-0018-4e23-86dc-5f6c44d68ced",
   "metadata": {},
   "outputs": [],
   "source": [
    "if isinstance(Fdata, pd.Series):\n",
    "    Fdata = Fdata.to_frame()\n",
    "if isinstance(Sdata, pd.Series):\n",
    "    Sdata = Sdata.to_frame()"
   ]
  },
  {
   "cell_type": "code",
   "execution_count": 112,
   "id": "0fb2eb45-5d1c-45d2-a508-2db72ad84091",
   "metadata": {},
   "outputs": [],
   "source": [
    "data_df = Fdata.merge(Sdata, how = 'left', on = 'Date')\n",
    "corrdata = data_df.corr()"
   ]
  },
  {
   "cell_type": "code",
   "execution_count": 113,
   "id": "69160b7a-f337-40fd-b7d8-a2eef8e88885",
   "metadata": {},
   "outputs": [
    {
     "data": {
      "text/plain": [
       "0.9987420748844726"
      ]
     },
     "execution_count": 113,
     "metadata": {},
     "output_type": "execute_result"
    }
   ],
   "source": [
    "correlation = corrdata.loc['ES=F', 'SPY']\n",
    "correlation"
   ]
  },
  {
   "cell_type": "code",
   "execution_count": 114,
   "id": "649ccfac-8f3f-4a80-8645-fc77215afc5b",
   "metadata": {},
   "outputs": [
    {
     "data": {
      "text/plain": [
       "Text(24.500000000000007, 0.5, \"['SPY']\")"
      ]
     },
     "execution_count": 114,
     "metadata": {},
     "output_type": "execute_result"
    },
    {
     "data": {
      "image/png": "[encoded data removed]",
      "text/plain": [
       "<Figure size 480x400 with 1 Axes>"
      ]
     },
     "metadata": {},
     "output_type": "display_data"
    }
   ],
   "source": [
    "sns.lmplot(data = data_df, x = 'ES=F', y = 'SPY', height = 4, aspect = 1.2);\n",
    "plt.title(\"Futures and Base Asset Correlation Visualization\")\n",
    "plt.xlabel(Fticker)\n",
    "plt.ylabel(Sticker)"
   ]
  },
  {
   "cell_type": "code",
   "execution_count": 115,
   "id": "d8b9c80d-24f8-4b5e-a81f-784bcca51172",
   "metadata": {},
   "outputs": [],
   "source": [
    "#Calculating log returns for Standard deviation calculations\n",
    "Flogreturns = np.log(Fdata/Fdata.shift(1))\n",
    "Slogreturns = np.log(Sdata/Sdata.shift(1))"
   ]
  },
  {
   "cell_type": "code",
   "execution_count": 116,
   "id": "459ab102-040e-41ec-bb5d-189764453aea",
   "metadata": {},
   "outputs": [],
   "source": [
    "#Calculating Standard Deviations of Futures and Base Asset Returns\n",
    "Fstd = Flogreturns.std()\n",
    "Sstd = Slogreturns.std()\n",
    "Fstd_value = Fstd.iloc[0]\n",
    "Sstd_value = Sstd.iloc[0]"
   ]
  },
  {
   "cell_type": "code",
   "execution_count": 117,
   "id": "6d0208ed-1b56-4058-8b93-dc6488873b90",
   "metadata": {},
   "outputs": [
    {
     "name": "stdout",
     "output_type": "stream",
     "text": [
      "The Minimum Variance Hedge Ratio is 0.960706628439775\n"
     ]
    }
   ],
   "source": [
    "#Minimum Variance Hedge Ratio Formula = Correlation coefficient * (Standard Deviation of Spot Returns / Standard Deviation of Futures Returns)\n",
    "hedge_ratio = correlation*(Sstd_value/Fstd_value)\n",
    "print(\"The Minimum Variance Hedge Ratio is\", hedge_ratio)"
   ]
  },
  {
   "cell_type": "code",
   "execution_count": 118,
   "id": "85305444-3697-4b25-95cc-7ce0df277b35",
   "metadata": {},
   "outputs": [
    {
     "name": "stdout",
     "output_type": "stream",
     "text": [
      "The Optimal Amount of Contracts is -31.323985276810397\n"
     ]
    }
   ],
   "source": [
    "#Optimal Contract Amount Calculator\n",
    "#Optimal Amount of Contracts Formula = (Position Size / One Futures Contract Size) * Minimum Variance Hedge Ratio\n",
    "#Please Select the Position Type of the Base Asset Below (long or short)\n",
    "position_type = ['long']\n",
    "position_size = 10000000\n",
    "futures_size = 306700\n",
    "contract_amount = (position_size/futures_size)*hedge_ratio\n",
    "\n",
    "if position_type == ['long']:\n",
    "    print(\"The Optimal Amount of Contracts is\", -contract_amount)\n",
    "else:\n",
    "    print(\"The Optimal Amount of Contracts is\", contract_amount)"
   ]
  },
  {
   "cell_type": "code",
   "execution_count": null,
   "id": "2889a636-653b-4791-a973-c9ff249d8a30",
   "metadata": {},
   "outputs": [],
   "source": []
  }
 ],
 "metadata": {
  "kernelspec": {
   "display_name": "Python 3 (ipykernel)",
   "language": "python",
   "name": "python3"
  },
  "language_info": {
   "codemirror_mode": {
    "name": "ipython",
    "version": 3
   },
   "file_extension": ".py",
   "mimetype": "text/x-python",
   "name": "python",
   "nbconvert_exporter": "python",
   "pygments_lexer": "ipython3",
   "version": "3.12.4"
  }
 },
 "nbformat": 4,
 "nbformat_minor": 5
}
